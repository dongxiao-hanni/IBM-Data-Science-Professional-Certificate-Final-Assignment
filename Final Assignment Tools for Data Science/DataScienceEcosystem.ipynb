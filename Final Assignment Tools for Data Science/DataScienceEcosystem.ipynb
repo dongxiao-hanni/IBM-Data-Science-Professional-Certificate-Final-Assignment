{
 "cells": [
  {
   "cell_type": "markdown",
   "id": "7fdc2ece-d949-4862-b4bd-c0501a71cd28",
   "metadata": {},
   "source": [
    "# Data Science Tools and Ecosystem "
   ]
  },
  {
   "cell_type": "markdown",
   "id": "f8a8b455-ca95-46bb-bf30-51b96e3a25de",
   "metadata": {},
   "source": [
    "## In this notebook, Data Science Tools and Ecosystem are summarized."
   ]
  },
  {
   "cell_type": "markdown",
   "id": "626dcd42-25b3-47b1-b93d-7e46001f32a1",
   "metadata": {},
   "source": [
    "**Objectives:**\n",
    "- List popular languages for Data Science\n",
    "- List commonly used libraries for Data Science\n",
    "- List Data Science Tools\n",
    "- Give some examples of evaluating arithmetic expressions in Python"
   ]
  },
  {
   "cell_type": "markdown",
   "id": "7a18e174-f727-43ed-ba17-72f2e21a44d0",
   "metadata": {},
   "source": [
    "### Some of the popular languages that Data Scientists use are:\n",
    "1. Python\n",
    "2. R\n",
    "3. JAVA\n",
    "4. C++"
   ]
  },
  {
   "cell_type": "markdown",
   "id": "c5d5f0b6-ec40-4605-bfdb-1321851ad35b",
   "metadata": {},
   "source": [
    "### Some of the commonly used libraries used by Data Scientists include:\n",
    "1. NumPy\n",
    "2. Pandas\n",
    "3. Matplotlib\n",
    "4. Scikit-learn"
   ]
  },
  {
   "cell_type": "markdown",
   "id": "04bc8bf7-79a4-4c67-ae05-f88f7b987583",
   "metadata": {},
   "source": [
    "|Data Science Tools| \n",
    "|----|\n",
    "|Jupyter Notebook|\n",
    "|RStudio|\n",
    "|GitHub|"
   ]
  },
  {
   "cell_type": "markdown",
   "id": "e0b5a708-7ed1-402b-9ad4-ddd15cad5361",
   "metadata": {},
   "source": [
    "### Below are a few examples of evaluating arithmetic expressions in Python"
   ]
  },
  {
   "cell_type": "code",
   "execution_count": 2,
   "id": "013477eb-a0cd-468d-a2b8-e4a9d5f9d252",
   "metadata": {},
   "outputs": [
    {
     "data": {
      "text/plain": [
       "17"
      ]
     },
     "execution_count": 2,
     "metadata": {},
     "output_type": "execute_result"
    }
   ],
   "source": [
    "# This a simple arithmetic expression to mutiply then add integers \n",
    "(3*4)+5"
   ]
  },
  {
   "cell_type": "code",
   "execution_count": 3,
   "id": "0a76bec7-e790-4b19-9afd-88368d8b3d20",
   "metadata": {},
   "outputs": [
    {
     "data": {
      "text/plain": [
       "3.3333333333333335"
      ]
     },
     "execution_count": 3,
     "metadata": {},
     "output_type": "execute_result"
    }
   ],
   "source": [
    "# This will convert 200 minutes to hours by diving by 60\n",
    "minutes = 200\n",
    "hours = minutes / 60\n",
    "hours"
   ]
  },
  {
   "cell_type": "markdown",
   "id": "b65d9237-f1de-45e3-a648-e653eca1c646",
   "metadata": {},
   "source": [
    "## Author\n",
    "Dongxiao HAN"
   ]
  },
  {
   "cell_type": "code",
   "execution_count": null,
   "id": "3f7b5a98-f9e2-4e73-95e9-990aed65b8de",
   "metadata": {},
   "outputs": [],
   "source": []
  }
 ],
 "metadata": {
  "kernelspec": {
   "display_name": "Python 3 (ipykernel)",
   "language": "python",
   "name": "python3"
  },
  "language_info": {
   "codemirror_mode": {
    "name": "ipython",
    "version": 3
   },
   "file_extension": ".py",
   "mimetype": "text/x-python",
   "name": "python",
   "nbconvert_exporter": "python",
   "pygments_lexer": "ipython3",
   "version": "3.8.18"
  }
 },
 "nbformat": 4,
 "nbformat_minor": 5
}
